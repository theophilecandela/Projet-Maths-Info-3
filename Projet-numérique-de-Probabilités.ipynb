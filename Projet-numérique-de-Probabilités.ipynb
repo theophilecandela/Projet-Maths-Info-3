{
 "cells": [
  {
   "cell_type": "markdown",
   "metadata": {},
   "source": [
    "# Questions théoriques"
   ]
  },
  {
   "cell_type": "markdown",
   "metadata": {},
   "source": [
    "Q1. Nous pouvons estimer l'espérance conditionnelle par la moyenne empirique de simulations conditionnelles grâce à la loi forte des grands nombres"
   ]
  },
  {
   "cell_type": "markdown",
   "metadata": {},
   "source": [
    "2. Le vecteur $Z$ contient les gaussiennes décrivant les points non observées connaissant les $n-p$ valeurs des observations. Ce vecteur doit conserver l'information sur la distance d'un point à un autre pour l'implémentation... Une fois cette considération faite on retombe sur le cas expliqué dans le cours proba 4 : La calcul des lois conditionnelles des $p$ premières composantes non-observées en fonction des $n-p$ dernières composantes observées placées dans le vecteur $V$ est aisée. La loi de probabilités des $p$ premières valeurs observées sachant les $n-p$ observées $(V=v)$ suit cette fonction de densité. \n",
    "$$\n",
    "f_{Z | V=v}(y)=\\frac{1}{(2 \\pi)^{k / 2} \\sqrt{\\operatorname{det}\\left(C S_{Z}\\right)}}\\left.\\exp \\left(-\\frac{1}{2}(z-\\psi(v))^{t} C S_{Z}^{-1}(z-\\psi(v))\\right)\\right)\n",
    "$$\n",
    "QUI EST P ? QUI EST T ? ON DEVRAIT PAS PRENDRE PLUTOT X = (Z(X0), ...Z(XN), z(X0),...z(XN)) ??\n",
    "Autrement dit la variable aléatoire $Z$ sachant $V=v$ suit une gaussienne d'espérance :\n",
    "\n",
    "$$\n",
    "m_{Z | V=v}=\\psi(v)=m_{Z}+C_{Z, V} C_{V}^{-1}\\left(v-m_{V}\\right)\n",
    "$$\n",
    "\n",
    "\n",
    "et de matrice de covariance : \n",
    "$$\n",
    "C S_{Z}=C_{Z}-C_{Z, V} C_{V}^{-1} C_{V, Z}\n",
    "$$"
   ]
  },
  {
   "cell_type": "markdown",
   "metadata": {},
   "source": [
    " Q3. Avec Y un vecteur de composantes gaussiennes indépendantes, réduites (de variance 1) et centrées (d'espérance nulle) alors le vecteur Z = m + RY est gaussien comme combinaison linéaire de variable aléatoires gaussienne d'espérance m et de variance $ C=R R^t$ (matrice de covariance)"
   ]
  },
  {
   "cell_type": "markdown",
   "metadata": {},
   "source": [
    "4. Considérons un vecteur Y gaussien, centré, réduit. Nous allons chercher à le transformer en un  vecteur $Z$ de loi conditionnelle correspondant aux points de discrétisation sans observation, connaissant les dernières valeurs prises, celles dans le vecteur $V$, soit $V=v$ . Or d'aprés la question 2 on peut construire l'espérance $m_{Z | V=v}$ de ce vecteur gaussien et sa matrice de covariance $C S_{Z}$. D'après la question 3 il faut désormais construire une matrice $R$ telle que $C = RR^t$ pour que le vecteur $Z$ donc défini par $Z=m+RY$ ait comme variance la matrice de covariance $C$ . Heureusement la construction d'un tel $R$ peut se faire par décomposition par factorisation de Cholesky de C. Ainsi, il suffit de simuler un vecteur gaussien, centré, réduit à l'aide de la méthode de Box-Muller, puis de se ramener à $Z=m+RY$"
   ]
  },
  {
   "cell_type": "code",
   "execution_count": null,
   "metadata": {
    "collapsed": true
   },
   "outputs": [],
   "source": [
    "# Données du problème\n",
    "Conventionnellement, $A$ est l'origine, $B=500$, $N=100$.\n",
    "\n",
    "Les données $$\\begin{array}{c|r}i & z(x_i)\\\\\n",
    "\\hline\n",
    "0 & 0\\\\\n",
    "20 & -4\\\\\n",
    "40 & -12.8\\\\\n",
    "60 & -1\\\\\n",
    "80 & -6.5\\\\\n",
    "100 & 0\\end{array}$$\n",
    "\n",
    "L'espérance de chaque composante du vecteur aléatoire $\\mathbf{Z}$ est donnée par $\\mu=-5.$\n",
    "\n",
    "La fonction $C$ est définie par $$C(h)=\\sigma^2 e^{-|h|/a},$$\n",
    "\n",
    "où $|h|$ correspond à la distance entre deux points, $a=50$ et $\\sigma^2=12$.\n"
   ]
  },
  {
   "cell_type": "markdown",
   "metadata": {},
   "source": [
    "# Implémentation"
   ]
  },
  {
   "cell_type": "markdown",
   "metadata": {},
   "source": [
    "## Préambule"
   ]
  },
  {
   "cell_type": "code",
   "execution_count": 1,
   "metadata": {},
   "outputs": [
    {
     "name": "stdout",
     "output_type": "stream",
     "text": [
      "[  0   1   2   3   4   5   6   7   8   9  10  11  12  13  14  15  16  17\n",
      "  18  19  20  21  22  23  24  25  26  27  28  29  30  31  32  33  34  35\n",
      "  36  37  38  39  40  41  42  43  44  45  46  47  48  49  50  51  52  53\n",
      "  54  55  56  57  58  59  60  61  62  63  64  65  66  67  68  69  70  71\n",
      "  72  73  74  75  76  77  78  79  80  81  82  83  84  85  86  87  88  89\n",
      "  90  91  92  93  94  95  96  97  98  99 100]\n"
     ]
    }
   ],
   "source": [
    "#Chargement de dépendances\n",
    "\n",
    "import numpy as np\n",
    "import matplotlib.pyplot as plt\n",
    "\n",
    "#Discrétisation\n",
    "A=0\n",
    "B=500\n",
    "N=101 #Nombre de points de discrétisation\n",
    "Delta = (B-A)/(N-1)\n",
    "discretization_indexes = np.arange(N)\n",
    "discretization = discretization_indexes*Delta\n",
    "#Paramètres du modèle\n",
    "\n",
    "mu=-5\n",
    "a = 50\n",
    "sigma2 = 12\n",
    "\n",
    "#Données\n",
    "\n",
    "observation_indexes = [0,20,40,60,80,100]\n",
    "depth = np.array([0,-4,-12.8,-1,-6.5,0])\n",
    "\n",
    "#Indices des composantes correspondant aux observations et aux componsantes non observées\n",
    "\n",
    "unknown_indexes=list(set(discretization_indexes)-set(observation_indexes))\n",
    "\n",
    "\n",
    "print(discretization_indexes)"
   ]
  },
  {
   "cell_type": "markdown",
   "metadata": {},
   "source": [
    "## Questions\n",
    "\n",
    "1. Ecrire une fonction qui prend en argument la distance entre les points, le paramètre $a$, et le paramètre $\\sigma^2$, et qui retourne la covariance entre deux points.\n",
    "On pourra fournir une matrice de distance à cette fonction. Dans ce cas, la fonction renverra la matrice de covariance."
   ]
  },
  {
   "cell_type": "code",
   "execution_count": 2,
   "metadata": {
    "collapsed": true
   },
   "outputs": [],
   "source": [
    "def Cov(h, a, sigma_2) :\n",
    "    return sigma_2 * np.exp(-np.abs(h)/a)"
   ]
  },
  {
   "cell_type": "markdown",
   "metadata": {},
   "source": [
    "2. Calculer la matrice de distance."
   ]
  },
  {
   "cell_type": "code",
   "execution_count": 3,
   "metadata": {},
   "outputs": [
    {
     "name": "stdout",
     "output_type": "stream",
     "text": [
      "[[  0.   5.  10. ... 490. 495. 500.]\n",
      " [  5.   0.   5. ... 485. 490. 495.]\n",
      " [ 10.   5.   0. ... 480. 485. 490.]\n",
      " ...\n",
      " [490. 485. 480. ...   0.   5.  10.]\n",
      " [495. 490. 485. ...   5.   0.   5.]\n",
      " [500. 495. 490. ...  10.   5.   0.]] (101, 101)\n"
     ]
    }
   ],
   "source": [
    "def matrice_distance() :\n",
    "    D = np.zeros((N, N))\n",
    "    for i in range(N) :\n",
    "        for j in range(i) :\n",
    "            Dij = (B-A)/(N-1) * (i-j)\n",
    "            D[i,j] = Dij\n",
    "            D[j,i] = Dij\n",
    "    return D\n",
    "\n",
    "print(matrice_distance(), np.shape(matrice_distance()))"
   ]
  },
  {
   "cell_type": "markdown",
   "metadata": {},
   "source": [
    "3. Calculer la matrice de covariance du vecteur $\\mathbf{Z}=(Z(x_0),\\dots,Z(x_N))$."
   ]
  },
  {
   "cell_type": "code",
   "execution_count": 4,
   "metadata": {},
   "outputs": [
    {
     "name": "stdout",
     "output_type": "stream",
     "text": [
      "[[1.20000000e+01 1.08580490e+01 9.82476904e+00 ... 6.65419193e-04\n",
      "  6.02096185e-04 5.44799157e-04]\n",
      " [1.08580490e+01 1.20000000e+01 1.08580490e+01 ... 7.35401941e-04\n",
      "  6.65419193e-04 6.02096185e-04]\n",
      " [9.82476904e+00 1.08580490e+01 1.20000000e+01 ... 8.12744838e-04\n",
      "  7.35401941e-04 6.65419193e-04]\n",
      " ...\n",
      " [6.65419193e-04 7.35401941e-04 8.12744838e-04 ... 1.20000000e+01\n",
      "  1.08580490e+01 9.82476904e+00]\n",
      " [6.02096185e-04 6.65419193e-04 7.35401941e-04 ... 1.08580490e+01\n",
      "  1.20000000e+01 1.08580490e+01]\n",
      " [5.44799157e-04 6.02096185e-04 6.65419193e-04 ... 9.82476904e+00\n",
      "  1.08580490e+01 1.20000000e+01]] (101, 101)\n"
     ]
    }
   ],
   "source": [
    "Cov_Z = Cov(matrice_distance(), a, sigma2)\n",
    "print(Cov_Z, np.shape(Cov_Z))"
   ]
  },
  {
   "cell_type": "markdown",
   "metadata": {},
   "source": [
    "4. Extraire les 3 matrices de covariance suivantes :\n",
    "\n",
    " * entre les observations\n",
    "\n",
    " * entre les observations et les inconnues\n",
    "\n",
    " * entre les inconnues\n"
   ]
  },
  {
   "cell_type": "code",
   "execution_count": 5,
   "metadata": {},
   "outputs": [
    {
     "name": "stdout",
     "output_type": "stream",
     "text": [
      "[[1.20000000e+01 1.62402340e+00 2.19787667e-01 2.97450261e-02\n",
      "  4.02555153e-03 5.44799157e-04]\n",
      " [1.62402340e+00 1.20000000e+01 1.62402340e+00 2.19787667e-01\n",
      "  2.97450261e-02 4.02555153e-03]\n",
      " [2.19787667e-01 1.62402340e+00 1.20000000e+01 1.62402340e+00\n",
      "  2.19787667e-01 2.97450261e-02]\n",
      " [2.97450261e-02 2.19787667e-01 1.62402340e+00 1.20000000e+01\n",
      "  1.62402340e+00 2.19787667e-01]\n",
      " [4.02555153e-03 2.97450261e-02 2.19787667e-01 1.62402340e+00\n",
      "  1.20000000e+01 1.62402340e+00]\n",
      " [5.44799157e-04 4.02555153e-03 2.97450261e-02 2.19787667e-01\n",
      "  1.62402340e+00 1.20000000e+01]]\n"
     ]
    }
   ],
   "source": [
    "Cov_obs = np.array([[ Cov_Z[i][j] for j in observation_indexes] for i in observation_indexes])\n",
    "Cov_inc = np.array([[ Cov_Z[i][j] for j in unknown_indexes] for i in unknown_indexes])\n",
    "Cov_obs_inc = np.array([[ Cov_Z[i][j] for i in observation_indexes] for j in unknown_indexes])\n",
    "#Pour garder la logique de construction avec np.array j'ai inversé i et j , tes itérateurs de boucle for. \n",
    "#Tu renseignes dans une liste une liste de ligne, donc il faut d'abord recopier les lignes de Cov_Z\n",
    "#Donc il faut commencer par se déplacer selon les colonnes donc faire déplacer j\n",
    "print(Cov_obs)\n"
   ]
  },
  {
   "cell_type": "markdown",
   "metadata": {},
   "source": [
    "5. Calculer l'espérance conditionnelle des composantes non observées connaissant les observations et la représenter avec les données."
   ]
  },
  {
   "cell_type": "code",
   "execution_count": 6,
   "metadata": {},
   "outputs": [
    {
     "data": {
      "text/plain": [
       "<matplotlib.collections.PathCollection at 0x28ffe4579b0>"
      ]
     },
     "execution_count": 6,
     "metadata": {},
     "output_type": "execute_result"
    },
    {
     "data": {
      "image/png": "[encoded data removed]",
      "text/plain": [
       "<Figure size 432x288 with 1 Axes>"
      ]
     },
     "metadata": {
      "needs_background": "light"
     },
     "output_type": "display_data"
    }
   ],
   "source": [
    "# On utilise la formule du 2) de la théorie\n",
    "\n",
    "Inv_cov_obs = np.linalg.inv(Cov_obs)\n",
    "m_v = [-5 for i in range (len(observation_indexes))]\n",
    "m_z = [-5 for i in range (len(unknown_indexes))]\n",
    "\n",
    "esp_cond = m_z + np.dot(np.matmul(Cov_obs_inc,(Inv_cov_obs)),(depth - m_v))\n",
    "\n",
    "plt.scatter(unknown_indexes, esp_cond)\n",
    "plt.scatter(observation_indexes, depth)"
   ]
  },
  {
   "cell_type": "markdown",
   "metadata": {},
   "source": [
    "6. Calculer la matrice de variance conditionnelle et tracer sa diagonale (variance conditionnelle) en fonction de la position. Commenter."
   ]
  },
  {
   "cell_type": "code",
   "execution_count": 7,
   "metadata": {},
   "outputs": [
    {
     "data": {
      "text/plain": [
       "[<matplotlib.lines.Line2D at 0x28ffe50f940>]"
      ]
     },
     "execution_count": 7,
     "metadata": {},
     "output_type": "execute_result"
    },
    {
     "data": {
      "image/png": "[encoded data removed]",
      "text/plain": [
       "<Figure size 432x288 with 1 Axes>"
      ]
     },
     "metadata": {
      "needs_background": "light"
     },
     "output_type": "display_data"
    }
   ],
   "source": [
    "CS_z = Cov_inc - np.matmul(np.matmul(Cov_obs_inc,(Inv_cov_obs)),(Cov_obs_inc.T))\n",
    "diago = [CS_z[i][i] for i in range(95)]\n",
    "\n",
    "# Pour rajouter la variance conditionnelle (nulle) des points connus :\n",
    "var_cond = [(0 if i%20 == 0 else diago[i - (i//20 + 1)]) for i in range (101)]\n",
    "indexes = [i for i in range (101)]\n",
    "\n",
    "plt.plot(indexes, var_cond)"
   ]
  },
  {
   "cell_type": "markdown",
   "metadata": {},
   "source": [
    "Cette allure traduit bien le fait que la profondeur est de moins en moins bien connue à mesure qu'on s'éloigne des points d'observation, et au contraire la variance tend vers 0 lorsque l'on s'approche des points connus."
   ]
  },
  {
   "cell_type": "markdown",
   "metadata": {},
   "source": [
    "7. Effectuer une simulation conditionnelle. Sur un même graphique, tracer la simulation ainsi que les données et l'espérance conditionnelle. Commenter."
   ]
  },
  {
   "cell_type": "code",
   "execution_count": 8,
   "metadata": {},
   "outputs": [
    {
     "data": {
      "text/plain": [
       "<matplotlib.collections.PathCollection at 0x28ffe9b49e8>"
      ]
     },
     "execution_count": 8,
     "metadata": {},
     "output_type": "execute_result"
    },
    {
     "data": {
      "image/png": "[encoded data removed]",
      "text/plain": [
       "<Figure size 432x288 with 1 Axes>"
      ]
     },
     "metadata": {
      "needs_background": "light"
     },
     "output_type": "display_data"
    }
   ],
   "source": [
    "#Du coup j'ai pris l'opposé ici, sans avoir la raison, mais ça marche, la matrice est bien définie positive\n",
    "R = np.linalg.cholesky(CS_z)\n",
    "def simulation() :\n",
    "    Y = np.zeros(95)\n",
    "    Y_2 = np.zeros(95)\n",
    "    for i in range(95) :\n",
    "        U = np.random.uniform()\n",
    "        V = np.random.uniform()\n",
    "        Y[i] = np.sqrt(-2*np.log(U))*np.cos(2*np.pi*V) #vecteur gaussien centré, réduit construit selon la méthode de Box-Muller\n",
    "        Y_2[i] = np.random.randn(1)\n",
    "    Z = esp_cond + R.dot(Y_2)\n",
    "    \n",
    "    \n",
    "    for k in range(len(Z)) :\n",
    "        if Z[k]>0:\n",
    "            Z[k]=0\n",
    "        \n",
    "    return Z\n",
    "\n",
    "Z = simulation()\n",
    "plt.scatter(unknown_indexes, Z)\n",
    "plt.scatter(observation_indexes, depth)\n",
    "plt.scatter(unknown_indexes, esp_cond)"
   ]
  },
  {
   "cell_type": "markdown",
   "metadata": {},
   "source": [
    "8. Ecrire une fonction qui calcule la longueur du câble en fonction du vecteur des profondeurs et du pas de discrétisation."
   ]
  },
  {
   "cell_type": "code",
   "execution_count": 9,
   "metadata": {
    "collapsed": true
   },
   "outputs": [],
   "source": [
    "def longueur_cable(prof, dx) :\n",
    "    L = 0\n",
    "    N = len(prof)\n",
    "    \n",
    "    for i in range(1,N) :\n",
    "        L += np.sqrt(dx**2 + (prof[i] - prof[i-1])**2)\n",
    "    return L"
   ]
  },
  {
   "cell_type": "markdown",
   "metadata": {},
   "source": [
    "9. Utiliser cette fonction pour calculer la longueur du câble à partir de 100 simulations. Comparer l'espérance conditionnelle (estimée) de la longueur avec la longueur de l'espérance conditionnelle."
   ]
  },
  {
   "cell_type": "code",
   "execution_count": 18,
   "metadata": {},
   "outputs": [
    {
     "name": "stdout",
     "output_type": "stream",
     "text": [
      "L'espérance conditionnelle estimée de la longueur est de 520.057m.\n",
      "La variance conditionnelle estimée de la longueur est de 9.682m.\n",
      "alors que la longueur de l'espérance conditionnelle est de 501.647m.\n"
     ]
    }
   ],
   "source": [
    "def vecteur_complet(Z) : #Ajoute les points déjà connus (donc non simulés) à un vecteur issu d'une simulation\n",
    "    return [(depth[i//20] if i%20 == 0 else Z[i - (i//20 + 1)]) for i in range (101)]\n",
    "\n",
    "def L_simulée(NB) :\n",
    "    L = []\n",
    "    V=[]\n",
    "    for k in range(NB) :\n",
    "        Z = simulation()\n",
    "        L.append(longueur_cable(vecteur_complet(Z), Delta))\n",
    "        V.append((longueur_cable(vecteur_complet(Z), Delta))**2) #je calcule E(X^2) avec \n",
    "                                                              # X notre variable aléatoire discrète qui donne la distance\n",
    "    return L, V\n",
    "\n",
    "L100, V100 = L_simulée(100)\n",
    "\n",
    "\n",
    "print(f\"L'espérance conditionnelle estimée de la longueur est de {np.round(np.average(L100), 3)}m.\")\n",
    "print(f\"La variance conditionnelle estimée de la longueur est de {np.round(np.average(V100)-np.average(L100)**2,3)}m.\")\n",
    "\n",
    "L_bis = longueur_cable(vecteur_complet(esp_cond), dx) #esp_cond est le vecteur des espérances conditionnelles des points inconnus\n",
    "print(f\"alors que la longueur de l'espérance conditionnelle est de {np.round_(L_bis, 3)}m.\")\n"
   ]
  },
  {
   "cell_type": "markdown",
   "metadata": {},
   "source": [
    "Cela s'explique par le fait que l'espérance conditionnelle a une allure \"lissée\", qui s'approche d'une longueur minimale du cable. En réalité, le caractère aléatoire de la surface augmente la longueur moyenne du cable, par des sauts irréguliers entre haut et bas."
   ]
  },
  {
   "cell_type": "markdown",
   "metadata": {},
   "source": [
    "10. Représenter la suite $M_n$ des moyennes des longueurs de câbles en fonction du nombre de simulations. Commenter."
   ]
  },
  {
   "cell_type": "code",
   "execution_count": 19,
   "metadata": {},
   "outputs": [
    {
     "name": "stdout",
     "output_type": "stream",
     "text": [
      "La moyenne de n longueurs simulées semble tendre vers une valeur proche de M_100 = 520.008\n"
     ]
    },
    {
     "data": {
      "image/png": "[encoded data removed]",
      "text/plain": [
       "<Figure size 432x288 with 1 Axes>"
      ]
     },
     "metadata": {
      "needs_background": "light"
     },
     "output_type": "display_data"
    }
   ],
   "source": [
    "L100 = L_simulée(100)[0]\n",
    "\n",
    "def affichage_Mn(L, ax = None) :\n",
    "    NB = len(L)\n",
    "    \n",
    "    les_x = [k for k in range(1, NB+1)]\n",
    "    les_y = [np.average(L[:i]) for i in range(1, NB+1)]\n",
    "    if ax == None :\n",
    "        ax = plt.gca()\n",
    "    ax.set_xlabel(\"Nombre de simulations\")\n",
    "    ax.set_ylabel(\"Longueur moyenne\")\n",
    "    ax.plot(les_x, les_y)\n",
    "    print(f\"La moyenne de n longueurs simulées semble tendre vers une valeur proche de M_{NB} = {np.round(les_y[-1], 3)}\")\n",
    "    \n",
    "affichage_Mn(L100)"
   ]
  },
  {
   "cell_type": "markdown",
   "metadata": {},
   "source": [
    "11. Représenter l'histogramme des longueurs de câbles générées."
   ]
  },
  {
   "cell_type": "code",
   "execution_count": 20,
   "metadata": {},
   "outputs": [
    {
     "data": {
      "image/png": "[encoded data removed]",
      "text/plain": [
       "<Figure size 432x288 with 1 Axes>"
      ]
     },
     "metadata": {
      "needs_background": "light"
     },
     "output_type": "display_data"
    }
   ],
   "source": [
    "L100 = L_simulée(100)\n",
    "\n",
    "def histogramme(L, ax = None) :\n",
    "    NB = len(L)\n",
    "    num_bins = min(int(np.sqrt(NB)), 100)\n",
    "    if ax == None :\n",
    "        ax = plt.gca()\n",
    "    n, bins, patches = ax.hist(L, num_bins, facecolor='lightblue')\n",
    "    ax.set_xlabel(\"Longueur de câble simulée\")\n",
    "    ax.set_title(f\"Histogramme obtenu pour {NB} simulations\")\n",
    "\n",
    "histogramme(L100[0])"
   ]
  },
  {
   "cell_type": "markdown",
   "metadata": {},
   "source": [
    "12. Donner un intervalle de confiance à 95% de la longueur du câble par 2 méthodes différentes. Commenter."
   ]
  },
  {
   "cell_type": "markdown",
   "metadata": {},
   "source": [
    "1ère méthode simple : ? \n",
    "\n",
    "2ème méthode : on utilise le TCL, comme (Mn-m)*(n)^(1/2) converge en loi vers une loi normale de paramètre (0,sigma2). or on a pas la variance sigma2 de nos longeurs simulées à priori. \n",
    "Je l'ai calculé dans la question 9 en assimilant notre simulation à une variable aléatoire discrète avec V(X) = E(X^2)-E(X)^2 ... le truc c'est qu'elle varie de 12 à 18 donc jsuis pas hyper sûr du résultat. "
   ]
  },
  {
   "cell_type": "markdown",
   "metadata": {},
   "source": [
    "13. Donner une estimation de la probabilité que la longueur du câble dépasse 525 m."
   ]
  },
  {
   "cell_type": "markdown",
   "metadata": {},
   "source": [
    "Bienaymé-Techibtchev? "
   ]
  },
  {
   "cell_type": "markdown",
   "metadata": {},
   "source": [
    "14. Reprendre les questions précédentes avec 1000, 10000 puis 100000 simulations. Commenter."
   ]
  },
  {
   "cell_type": "code",
   "execution_count": 13,
   "metadata": {
    "collapsed": true
   },
   "outputs": [],
   "source": [
    "L1 = L_simulée(1000)\n",
    "L2 = L_simulée(10000)\n",
    "L3 = L_simulée(20000)\n",
    "H = [L1, L2, L3]\n",
    "\n",
    "#100 000 faisait trop long sur mon ordi, j'ai mis 20 000"
   ]
  },
  {
   "cell_type": "code",
   "execution_count": 21,
   "metadata": {},
   "outputs": [
    {
     "name": "stdout",
     "output_type": "stream",
     "text": [
      "La moyenne de n longueurs simulées semble tendre vers une valeur proche de M_1000 = 520.346\n",
      "La moyenne de n longueurs simulées semble tendre vers une valeur proche de M_10000 = 520.318\n",
      "La moyenne de n longueurs simulées semble tendre vers une valeur proche de M_20000 = 520.324\n"
     ]
    },
    {
     "data": {
      "image/png": "[encoded data removed]",
      "text/plain": [
       "<Figure size 1080x720 with 6 Axes>"
      ]
     },
     "metadata": {
      "needs_background": "light"
     },
     "output_type": "display_data"
    }
   ],
   "source": [
    "fig, axes = plt.subplots(2, 3, figsize = (15, 10))\n",
    "for i in range(3) :\n",
    "    affichage_Mn(H[i][0], axes[0, i])\n",
    "    histogramme(H[i][0], axes[1, i])"
   ]
  },
  {
   "cell_type": "code",
   "execution_count": null,
   "metadata": {
    "collapsed": true
   },
   "outputs": [],
   "source": []
  }
 ],
 "metadata": {
  "@webio": {
   "lastCommId": "5ceb69a5bbd14071b254c2439a58ac4b",
   "lastKernelId": "0e923419-c540-42c1-ab5f-d0e05ff4521c"
  },
  "kernelspec": {
   "display_name": "Python 3",
   "language": "python",
   "name": "python3"
  },
  "language_info": {
   "codemirror_mode": {
    "name": "ipython",
    "version": 3
   },
   "file_extension": ".py",
   "mimetype": "text/x-python",
   "name": "python",
   "nbconvert_exporter": "python",
   "pygments_lexer": "ipython3",
   "version": "3.6.3"
  }
 },
 "nbformat": 4,
 "nbformat_minor": 2
}
