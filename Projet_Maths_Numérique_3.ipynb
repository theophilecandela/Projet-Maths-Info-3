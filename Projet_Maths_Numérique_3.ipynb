{
 "cells": [
  {
   "cell_type": "markdown",
   "metadata": {},
   "source": [
    "# __Projet Numerique 3: __Câble sous marin\n",
    "---\n",
    "\n"
   ]
  },
  {
   "cell_type": "code",
   "execution_count": 17,
   "metadata": {},
   "outputs": [],
   "source": [
    "from mpl_toolkits.mplot3d import Axes3D\n",
    "from numpy import *\n",
    "from scipy.integrate import solve_ivp\n",
    "import matplotlib; \n",
    "from matplotlib.pyplot import *\n",
    "import seaborn as sns\n",
    "sns.set()\n",
    "%matplotlib notebook\n",
    "\n",
    "from matplotlib import pyplot as plt\n",
    "import numpy as np "
   ]
  },
  {
   "cell_type": "markdown",
   "metadata": {},
   "source": [
    "## Questions Théoriques:\n",
    "\n",
    "**1)**\n",
    "`La loi des grands nombres` pour  une suite de variables indépendantes de même loi nous autorise à approcher l'espérance par moyenne empirique des réalisations.\n",
    "\n",
    "**2)**\n",
    "D'après le cours ProbasIV, le vecteur **Y** $\\in \\mathbb{R} ^{N - n}$ des composantes de **Z** $\\in \\mathbb{R} ^{N}$ non connues correspondant aux points de discrétisation sans observation, connaissant les valeurs prises par les composantes aux sites d'observation (**z** $\\in \\mathbb{R} ^{n}$) est gaussien, de densité:\n",
    "\n",
    "> $f_{Y|Z=z}(y) = \\frac{1}{(2\\pi)^{k/2}\\sqrt{\\det (\\Sigma S_Y)}}\\exp \\left(-\\frac{1}{2}\\left(y - \\psi(z)\\right)^t \\Sigma S_Y^{-1}\\left(y - \\psi(z))\\right)\\right)$\n",
    "\n",
    "Où $\\psi$ est l'espérance conditionnelle de **Y** sachant **Z**, et $S_{Y}$ le `complément de Schur` du de la matrice de covariance de **Y**.\n",
    "On a $ m_{Y|Z = z} = \\psi(z) = m_{Y} + \\Sigma_{Y,Z}\\Sigma_{Z}^{-1}(z − m_{Z}) $ où $m_{Y}$ et $m_{Z}$ sont des vecteurs d'espérance ne contenant qu'une seule valeur $\\mu$, et $\\Sigma_{Y,Z}, \\Sigma_{Z}$ connues en fonction des {$x_{j_1}, ..., x_{j_n}$} points d'observation.\n",
    "\n",
    "**3)**\n",
    "**Y** $= (Y_{1}, Y_{2}, ..., Y_{p})$ un vecteur de composantes gaussiennes centrées réduites et indépendantes.\n",
    "Alors **Z** $= m + RY$ est un vecteur gaussien, d'ésperance m et de matrice de covariance $R R^{t}$ \n",
    "\n",
    "**4)**\n",
    "Un algorithme de simulation conditionnelle envisageable serait le suivant:  \n",
    "On commence par simuler un vecteur $Y_1$ de composantes gaussiennes centrées réduites indépendantes, que l'on utilise pour obtenir une simulation du vecteur **Y** $\\in \\mathbb{R} ^{N - n}$ des composantes de **Z** $\\in \\mathbb{R} ^{N}$ non connues correspondant aux points de discrétisation sans observation: **Y** $= m_{Y|Z = z} + L_{Y}Y_1 $ où $L_{Y} L_{Y}^{-1} = \\Sigma_{Y|Z = z}$ (_`Decomposition de Cholesky`_)  \n",
    "On calcule ensuite la longueur de câble correspondant à cette réalisation de **Z**  \n",
    "On recommence pour obtenir $l_{(1)}, ..., l_{(K)}$"
   ]
  },
  {
   "cell_type": "code",
   "execution_count": null,
   "metadata": {},
   "outputs": [],
   "source": []
  }
 ],
 "metadata": {
  "kernelspec": {
   "display_name": "Python 3",
   "language": "python",
   "name": "python3"
  },
  "language_info": {
   "codemirror_mode": {
    "name": "ipython",
    "version": 3
   },
   "file_extension": ".py",
   "mimetype": "text/x-python",
   "name": "python",
   "nbconvert_exporter": "python",
   "pygments_lexer": "ipython3",
   "version": "3.6.5"
  }
 },
 "nbformat": 4,
 "nbformat_minor": 2
}
